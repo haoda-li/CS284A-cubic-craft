{
 "cells": [
  {
   "cell_type": "code",
   "execution_count": 1,
   "metadata": {},
   "outputs": [],
   "source": [
    "import numpy as np\n",
    "import igl\n",
    "\n",
    "V, F = igl.read_triangle_mesh(\"../GUI/bunny.obj\")\n",
    "NV = V.shape[0]\n",
    "NF = F.shape[0]\n",
    "\n",
    "def shrinkage(x, k):\n",
    "    return np.maximum( 0, x - k ) - np.maximum( 0, -x - k )\n",
    "\n",
    "rotData = dict(\n",
    "    V=V,\n",
    "    F=F,\n",
    "    N=igl.per_vertex_normals(V, F)[:, :, None],\n",
    "    L=igl.cotmatrix(V, F),\n",
    "    VA=igl.massmatrix(V, F).diagonal(),\n",
    "    cubeness = 4e-1,\n",
    "    rho = 1e-4,\n",
    "    ABSTOL = 1e-5,\n",
    "    RELTOL = 1e-3,\n",
    "    mu = 5,\n",
    "    tao = 2, \n",
    "    maxIter_ADMM = 100\n",
    ")\n",
    "\n",
    "ARAPdata = dict(\n",
    "    L = igl.cotmatrix(V, F),\n",
    "    preF = [],\n",
    "    K = igl.arap_rhs(V, F, 3, igl.ARAP_ENERGY_TYPE_SPOKES_AND_RIMS)\n",
    ")\n"
   ]
  },
  {
   "cell_type": "code",
   "execution_count": 2,
   "metadata": {},
   "outputs": [],
   "source": [
    "rotData['zAll'] = np.zeros((NV, 3, 1))\n",
    "rotData['uAll'] = np.zeros((NV, 3, 1))\n",
    "rotData['rhoAll'] = np.full((NV, 1), 1e-4)\n",
    "\n",
    "# VF[NI[i]:NI[i+1]] is the face indices adjacent to V[i]\n",
    "VF, NI = igl.vertex_triangle_adjacency(F, NV)\n",
    "rotData['NI'] = NI\n",
    "\n",
    "# hElist[NI[i]:NI[i+1]] are all the edges of triangles adjacent to V[i]\n",
    "hElist = np.empty((VF.shape[0], 3, 2), dtype=np.int32)\n",
    "hElist[:, :, 0] = F[VF, :]\n",
    "hElist[:, :, 1] = F[VF][:, (1,2,0)]\n",
    "\n",
    "rotData['hElist'] = hElist\n",
    "\n",
    "# dVlist is the displacement of the edges \n",
    "dVlist = np.empty((VF.shape[0], 3, 3), dtype=np.float32)\n",
    "dVlist[:, 0, :] = V[hElist[:, 0, 1]] - V[hElist[:, 0, 0]]\n",
    "dVlist[:, 1, :] = V[hElist[:, 1, 1]] - V[hElist[:, 1, 0]]\n",
    "dVlist[:, 2, :] = V[hElist[:, 2, 1]] - V[hElist[:, 2, 0]]\n",
    "\n",
    "rotData['dVlist'] = dVlist\n",
    "\n",
    "# WvalList is the diagonal value of the Laplacian (cotmartix)\n",
    "Wvallist = np.empty((VF.shape[0], 3))\n",
    "Wvallist[:, 0] = rotData['L'][hElist[:, 0, 0], hElist[:, 0, 1]]\n",
    "Wvallist[:, 1] = rotData['L'][hElist[:, 1, 0], hElist[:, 1, 1]]\n",
    "Wvallist[:, 2] = rotData['L'][hElist[:, 2, 0], hElist[:, 2, 1]]\n",
    "rotData['Wvallist'] = Wvallist"
   ]
  },
  {
   "cell_type": "code",
   "execution_count": 3,
   "metadata": {},
   "outputs": [],
   "source": [
    "def proj_SE3(S):\n",
    "    U, X, V_t = np.linalg.svd(S) #the SVD of linalg gives you Vt\n",
    "    \n",
    "    #Calculate rotation matrix\n",
    "    R = (U @ V_t).T\n",
    "    if np.linalg.det(R) < 0:\n",
    "        U[:, -1] *= -1\n",
    "        R = (U @ V_t).T\n",
    "    return R"
   ]
  },
  {
   "cell_type": "code",
   "execution_count": 4,
   "metadata": {},
   "outputs": [],
   "source": [
    "U = V.copy()"
   ]
  },
  {
   "cell_type": "code",
   "execution_count": 5,
   "metadata": {},
   "outputs": [],
   "source": [
    "from tqdm import tqdm\n",
    "def fitRotation(U, rotData):\n",
    "    RAll = np.zeros((NV, 3, 3))\n",
    "    objVal = 0\n",
    "\n",
    "    for ii in tqdm(range(NV)):\n",
    "        z = rotData['zAll'][ii]\n",
    "        u = rotData['uAll'][ii]\n",
    "        n = rotData['N'][ii]\n",
    "        rho = rotData['rhoAll'][ii]\n",
    "\n",
    "        hE = rotData['hElist'][rotData['NI'][ii]:rotData['NI'][ii+1]]\n",
    "\n",
    "        flatten_size = hE.shape[0] * hE.shape[1]\n",
    "        hE = hE.reshape(flatten_size, 2, order='F')\n",
    "\n",
    "        W = rotData['Wvallist'][rotData['NI'][ii]:rotData['NI'][ii+1]]\n",
    "        W = np.diag(W.reshape(flatten_size, order='F'))\n",
    "        dV = rotData['dVlist'][rotData['NI'][ii]:rotData['NI'][ii+1]]\n",
    "        dV = dV.reshape(flatten_size, 3, order='F')\n",
    "        dU = U[hE[:, 1]] - U[hE[:, 0]]\n",
    "\n",
    "        Spre = dV.T @ W @ dU\n",
    "        \n",
    "        for k in range(rotData['maxIter_ADMM']):\n",
    "            S = Spre + rho * (n @ (z-u).T)\n",
    "            R = proj_SE3(S)\n",
    "            z_old = z\n",
    "            z = shrinkage(R @ n + u, rotData['cubeness'] * rotData['VA'][ii] / rho)\n",
    "            u += R @ n - z\n",
    "            \n",
    "            r_norm = np.linalg.norm(z - R @ n)\n",
    "            s_norm = np.linalg.norm(-rho * (z - z_old))\n",
    "            \n",
    "            if r_norm > rotData['mu'] * s_norm:\n",
    "                rho *= rotData['tao']\n",
    "                u /= rotData['tao']\n",
    "            elif s_norm > rotData['mu'] * r_norm:\n",
    "                rho /= rotData['tao']\n",
    "                u *= rotData['tao']\n",
    "            \n",
    "            eps_pri = np.sqrt(6) * rotData['ABSTOL'] + rotData['RELTOL'] * np.maximum(np.linalg.norm(R @ n), np.linalg.norm(z))\n",
    "            eps_dual = np.sqrt(3) * rotData['ABSTOL'] + rotData['RELTOL'] * np.linalg.norm(rho * u)\n",
    "            \n",
    "            if r_norm < eps_pri and s_norm < eps_dual:\n",
    "                rotData['zAll'][ii] = z\n",
    "                rotData['uAll'][ii] = u\n",
    "                rotData['rhoAll'][ii] = rho\n",
    "                RAll[ii] = R\n",
    "                objVal += 0.5 * np.trace((R @ dV.T - dU.T) @ W @ (R @ dV.T - dU.T).T) + rotData['cubeness'] * rotData['VA'][ii] * np.linalg.norm(R @ n, ord=1)\n",
    "                break\n",
    "    print(objVal)\n",
    "    return RAll, objVal"
   ]
  },
  {
   "cell_type": "code",
   "execution_count": 7,
   "metadata": {},
   "outputs": [
    {
     "name": "stderr",
     "output_type": "stream",
     "text": [
      "100%|██████████| 6172/6172 [00:04<00:00, 1528.32it/s]\n"
     ]
    },
    {
     "name": "stdout",
     "output_type": "stream",
     "text": [
      "3458.9685045753467\n",
      "True (6172, 3)\n"
     ]
    },
    {
     "name": "stderr",
     "output_type": "stream",
     "text": [
      "100%|██████████| 6172/6172 [00:02<00:00, 2421.47it/s]\n"
     ]
    },
    {
     "name": "stdout",
     "output_type": "stream",
     "text": [
      "3397.838523853725\n",
      "True (6172, 3)\n"
     ]
    },
    {
     "name": "stderr",
     "output_type": "stream",
     "text": [
      "100%|██████████| 6172/6172 [00:02<00:00, 2362.38it/s]\n"
     ]
    },
    {
     "name": "stdout",
     "output_type": "stream",
     "text": [
      "3353.3968727731985\n",
      "True (6172, 3)\n"
     ]
    },
    {
     "name": "stderr",
     "output_type": "stream",
     "text": [
      "100%|██████████| 6172/6172 [00:02<00:00, 2316.41it/s]\n"
     ]
    },
    {
     "name": "stdout",
     "output_type": "stream",
     "text": [
      "3318.0085667913736\n",
      "True (6172, 3)\n"
     ]
    },
    {
     "name": "stderr",
     "output_type": "stream",
     "text": [
      "100%|██████████| 6172/6172 [00:02<00:00, 2409.28it/s]\n"
     ]
    },
    {
     "name": "stdout",
     "output_type": "stream",
     "text": [
      "3288.6898784480222\n",
      "True (6172, 3)\n"
     ]
    },
    {
     "name": "stderr",
     "output_type": "stream",
     "text": [
      "100%|██████████| 6172/6172 [00:02<00:00, 2370.02it/s]\n"
     ]
    },
    {
     "name": "stdout",
     "output_type": "stream",
     "text": [
      "3264.2303843757313\n",
      "True (6172, 3)\n"
     ]
    },
    {
     "name": "stderr",
     "output_type": "stream",
     "text": [
      "100%|██████████| 6172/6172 [00:02<00:00, 2345.05it/s]\n"
     ]
    },
    {
     "name": "stdout",
     "output_type": "stream",
     "text": [
      "3243.7933365796243\n",
      "True (6172, 3)\n"
     ]
    },
    {
     "name": "stderr",
     "output_type": "stream",
     "text": [
      "100%|██████████| 6172/6172 [00:02<00:00, 2465.33it/s]\n"
     ]
    },
    {
     "name": "stdout",
     "output_type": "stream",
     "text": [
      "3226.4046047041893\n",
      "True (6172, 3)\n"
     ]
    },
    {
     "name": "stderr",
     "output_type": "stream",
     "text": [
      "100%|██████████| 6172/6172 [00:02<00:00, 2491.38it/s]\n"
     ]
    },
    {
     "name": "stdout",
     "output_type": "stream",
     "text": [
      "3211.49067623561\n",
      "True (6172, 3)\n"
     ]
    },
    {
     "name": "stderr",
     "output_type": "stream",
     "text": [
      "100%|██████████| 6172/6172 [00:02<00:00, 2590.37it/s]\n"
     ]
    },
    {
     "name": "stdout",
     "output_type": "stream",
     "text": [
      "3198.4777836923145\n",
      "True (6172, 3)\n"
     ]
    },
    {
     "name": "stderr",
     "output_type": "stream",
     "text": [
      "100%|██████████| 6172/6172 [00:02<00:00, 2716.04it/s]\n"
     ]
    },
    {
     "name": "stdout",
     "output_type": "stream",
     "text": [
      "3186.8884691105545\n",
      "True (6172, 3)\n"
     ]
    },
    {
     "name": "stderr",
     "output_type": "stream",
     "text": [
      "100%|██████████| 6172/6172 [00:02<00:00, 2586.22it/s]\n"
     ]
    },
    {
     "name": "stdout",
     "output_type": "stream",
     "text": [
      "3176.52970481576\n",
      "True (6172, 3)\n"
     ]
    },
    {
     "name": "stderr",
     "output_type": "stream",
     "text": [
      "100%|██████████| 6172/6172 [00:02<00:00, 2922.42it/s]\n"
     ]
    },
    {
     "name": "stdout",
     "output_type": "stream",
     "text": [
      "3167.358935631956\n",
      "True (6172, 3)\n"
     ]
    },
    {
     "name": "stderr",
     "output_type": "stream",
     "text": [
      "100%|██████████| 6172/6172 [00:02<00:00, 2778.48it/s]\n"
     ]
    },
    {
     "name": "stdout",
     "output_type": "stream",
     "text": [
      "3159.188978514323\n",
      "True (6172, 3)\n"
     ]
    },
    {
     "name": "stderr",
     "output_type": "stream",
     "text": [
      "100%|██████████| 6172/6172 [00:02<00:00, 2906.10it/s]\n"
     ]
    },
    {
     "name": "stdout",
     "output_type": "stream",
     "text": [
      "3151.904106465478\n",
      "True (6172, 3)\n"
     ]
    },
    {
     "name": "stderr",
     "output_type": "stream",
     "text": [
      "100%|██████████| 6172/6172 [00:02<00:00, 2968.67it/s]\n"
     ]
    },
    {
     "name": "stdout",
     "output_type": "stream",
     "text": [
      "3145.400679254489\n",
      "True (6172, 3)\n"
     ]
    },
    {
     "name": "stderr",
     "output_type": "stream",
     "text": [
      "100%|██████████| 6172/6172 [00:02<00:00, 2986.53it/s]\n"
     ]
    },
    {
     "name": "stdout",
     "output_type": "stream",
     "text": [
      "3139.556246585406\n",
      "True (6172, 3)\n"
     ]
    },
    {
     "name": "stderr",
     "output_type": "stream",
     "text": [
      "100%|██████████| 6172/6172 [00:01<00:00, 3203.17it/s]\n"
     ]
    },
    {
     "name": "stdout",
     "output_type": "stream",
     "text": [
      "3134.2993730918115\n",
      "True (6172, 3)\n"
     ]
    },
    {
     "name": "stderr",
     "output_type": "stream",
     "text": [
      "100%|██████████| 6172/6172 [00:01<00:00, 3267.18it/s]\n"
     ]
    },
    {
     "name": "stdout",
     "output_type": "stream",
     "text": [
      "3129.557156951067\n",
      "True (6172, 3)\n"
     ]
    },
    {
     "name": "stderr",
     "output_type": "stream",
     "text": [
      "100%|██████████| 6172/6172 [00:01<00:00, 3227.97it/s]\n"
     ]
    },
    {
     "name": "stdout",
     "output_type": "stream",
     "text": [
      "3125.215181962316\n",
      "True (6172, 3)\n"
     ]
    },
    {
     "name": "stderr",
     "output_type": "stream",
     "text": [
      "100%|██████████| 6172/6172 [00:01<00:00, 3198.60it/s]\n"
     ]
    },
    {
     "name": "stdout",
     "output_type": "stream",
     "text": [
      "3121.2231565844154\n",
      "True (6172, 3)\n"
     ]
    },
    {
     "name": "stderr",
     "output_type": "stream",
     "text": [
      "100%|██████████| 6172/6172 [00:01<00:00, 3373.67it/s]\n"
     ]
    },
    {
     "name": "stdout",
     "output_type": "stream",
     "text": [
      "3117.556956960367\n",
      "True (6172, 3)\n"
     ]
    },
    {
     "name": "stderr",
     "output_type": "stream",
     "text": [
      "100%|██████████| 6172/6172 [00:01<00:00, 3366.98it/s]\n"
     ]
    },
    {
     "name": "stdout",
     "output_type": "stream",
     "text": [
      "3114.163238125716\n",
      "True (6172, 3)\n"
     ]
    },
    {
     "name": "stderr",
     "output_type": "stream",
     "text": [
      "100%|██████████| 6172/6172 [00:01<00:00, 3444.99it/s]\n"
     ]
    },
    {
     "name": "stdout",
     "output_type": "stream",
     "text": [
      "3111.021190844717\n",
      "True (6172, 3)\n"
     ]
    },
    {
     "name": "stderr",
     "output_type": "stream",
     "text": [
      "100%|██████████| 6172/6172 [00:01<00:00, 3518.47it/s]\n"
     ]
    },
    {
     "name": "stdout",
     "output_type": "stream",
     "text": [
      "3108.162363728958\n",
      "True (6172, 3)\n"
     ]
    },
    {
     "name": "stderr",
     "output_type": "stream",
     "text": [
      "100%|██████████| 6172/6172 [00:01<00:00, 3525.73it/s]\n"
     ]
    },
    {
     "name": "stdout",
     "output_type": "stream",
     "text": [
      "3105.5912674430892\n",
      "True (6172, 3)\n"
     ]
    },
    {
     "name": "stderr",
     "output_type": "stream",
     "text": [
      "100%|██████████| 6172/6172 [00:01<00:00, 3716.38it/s]\n"
     ]
    },
    {
     "name": "stdout",
     "output_type": "stream",
     "text": [
      "3103.2583950613566\n",
      "True (6172, 3)\n"
     ]
    },
    {
     "name": "stderr",
     "output_type": "stream",
     "text": [
      "100%|██████████| 6172/6172 [00:01<00:00, 3410.71it/s]\n"
     ]
    },
    {
     "name": "stdout",
     "output_type": "stream",
     "text": [
      "3101.1465642746944\n",
      "True (6172, 3)\n"
     ]
    },
    {
     "name": "stderr",
     "output_type": "stream",
     "text": [
      "100%|██████████| 6172/6172 [00:01<00:00, 3529.96it/s]\n"
     ]
    },
    {
     "name": "stdout",
     "output_type": "stream",
     "text": [
      "3099.2566492605306\n",
      "True (6172, 3)\n"
     ]
    },
    {
     "name": "stderr",
     "output_type": "stream",
     "text": [
      "100%|██████████| 6172/6172 [00:01<00:00, 3805.96it/s]\n"
     ]
    },
    {
     "name": "stdout",
     "output_type": "stream",
     "text": [
      "3097.5614848951927\n",
      "True (6172, 3)\n"
     ]
    },
    {
     "name": "stderr",
     "output_type": "stream",
     "text": [
      "100%|██████████| 6172/6172 [00:01<00:00, 3876.97it/s]\n"
     ]
    },
    {
     "name": "stdout",
     "output_type": "stream",
     "text": [
      "3096.064466249199\n",
      "True (6172, 3)\n"
     ]
    },
    {
     "name": "stderr",
     "output_type": "stream",
     "text": [
      "100%|██████████| 6172/6172 [00:01<00:00, 3825.00it/s]\n"
     ]
    },
    {
     "name": "stdout",
     "output_type": "stream",
     "text": [
      "3094.720715232819\n",
      "True (6172, 3)\n"
     ]
    },
    {
     "name": "stderr",
     "output_type": "stream",
     "text": [
      "100%|██████████| 6172/6172 [00:01<00:00, 3627.30it/s]\n"
     ]
    },
    {
     "name": "stdout",
     "output_type": "stream",
     "text": [
      "3093.524118279369\n",
      "True (6172, 3)\n"
     ]
    },
    {
     "name": "stderr",
     "output_type": "stream",
     "text": [
      "100%|██████████| 6172/6172 [00:01<00:00, 3909.10it/s]\n"
     ]
    },
    {
     "name": "stdout",
     "output_type": "stream",
     "text": [
      "3092.4374717807727\n",
      "True (6172, 3)\n"
     ]
    },
    {
     "name": "stderr",
     "output_type": "stream",
     "text": [
      "100%|██████████| 6172/6172 [00:01<00:00, 3923.81it/s]\n"
     ]
    },
    {
     "name": "stdout",
     "output_type": "stream",
     "text": [
      "3091.4567705882423\n",
      "True (6172, 3)\n"
     ]
    },
    {
     "name": "stderr",
     "output_type": "stream",
     "text": [
      "100%|██████████| 6172/6172 [00:01<00:00, 3894.67it/s]\n"
     ]
    },
    {
     "name": "stdout",
     "output_type": "stream",
     "text": [
      "3090.554553266307\n",
      "True (6172, 3)\n"
     ]
    },
    {
     "name": "stderr",
     "output_type": "stream",
     "text": [
      "100%|██████████| 6172/6172 [00:01<00:00, 3899.90it/s]\n"
     ]
    },
    {
     "name": "stdout",
     "output_type": "stream",
     "text": [
      "3089.727947677126\n",
      "True (6172, 3)\n"
     ]
    },
    {
     "name": "stderr",
     "output_type": "stream",
     "text": [
      "100%|██████████| 6172/6172 [00:01<00:00, 3901.14it/s]\n"
     ]
    },
    {
     "name": "stdout",
     "output_type": "stream",
     "text": [
      "3088.9592318604577\n",
      "True (6172, 3)\n"
     ]
    },
    {
     "name": "stderr",
     "output_type": "stream",
     "text": [
      "100%|██████████| 6172/6172 [00:01<00:00, 4081.01it/s]\n"
     ]
    },
    {
     "name": "stdout",
     "output_type": "stream",
     "text": [
      "3088.2483604914537\n",
      "True (6172, 3)\n"
     ]
    },
    {
     "name": "stderr",
     "output_type": "stream",
     "text": [
      "100%|██████████| 6172/6172 [00:01<00:00, 4054.49it/s]\n"
     ]
    },
    {
     "name": "stdout",
     "output_type": "stream",
     "text": [
      "3087.582816850102\n",
      "True (6172, 3)\n"
     ]
    },
    {
     "name": "stderr",
     "output_type": "stream",
     "text": [
      "100%|██████████| 6172/6172 [00:01<00:00, 3771.82it/s]\n"
     ]
    },
    {
     "name": "stdout",
     "output_type": "stream",
     "text": [
      "3086.9569588601885\n",
      "True (6172, 3)\n"
     ]
    },
    {
     "name": "stderr",
     "output_type": "stream",
     "text": [
      "100%|██████████| 6172/6172 [00:01<00:00, 3928.89it/s]\n"
     ]
    },
    {
     "name": "stdout",
     "output_type": "stream",
     "text": [
      "3086.3589805178317\n",
      "True (6172, 3)\n"
     ]
    },
    {
     "name": "stderr",
     "output_type": "stream",
     "text": [
      "100%|██████████| 6172/6172 [00:01<00:00, 4100.82it/s]\n"
     ]
    },
    {
     "name": "stdout",
     "output_type": "stream",
     "text": [
      "3085.792295132806\n",
      "True (6172, 3)\n"
     ]
    },
    {
     "name": "stderr",
     "output_type": "stream",
     "text": [
      "100%|██████████| 6172/6172 [00:01<00:00, 4054.95it/s]\n"
     ]
    },
    {
     "name": "stdout",
     "output_type": "stream",
     "text": [
      "3085.247902343705\n",
      "True (6172, 3)\n"
     ]
    },
    {
     "name": "stderr",
     "output_type": "stream",
     "text": [
      "100%|██████████| 6172/6172 [00:01<00:00, 4115.70it/s]\n"
     ]
    },
    {
     "name": "stdout",
     "output_type": "stream",
     "text": [
      "3084.732414978968\n",
      "True (6172, 3)\n"
     ]
    },
    {
     "name": "stderr",
     "output_type": "stream",
     "text": [
      "100%|██████████| 6172/6172 [00:01<00:00, 4252.71it/s]\n"
     ]
    },
    {
     "name": "stdout",
     "output_type": "stream",
     "text": [
      "3084.234936876263\n",
      "True (6172, 3)\n"
     ]
    },
    {
     "name": "stderr",
     "output_type": "stream",
     "text": [
      "100%|██████████| 6172/6172 [00:01<00:00, 3828.06it/s]\n"
     ]
    },
    {
     "name": "stdout",
     "output_type": "stream",
     "text": [
      "3083.7547823015543\n",
      "True (6172, 3)\n"
     ]
    },
    {
     "name": "stderr",
     "output_type": "stream",
     "text": [
      "100%|██████████| 6172/6172 [00:01<00:00, 3958.85it/s]\n"
     ]
    },
    {
     "name": "stdout",
     "output_type": "stream",
     "text": [
      "3083.292781249439\n",
      "True (6172, 3)\n"
     ]
    },
    {
     "name": "stderr",
     "output_type": "stream",
     "text": [
      "100%|██████████| 6172/6172 [00:01<00:00, 3919.68it/s]\n"
     ]
    },
    {
     "name": "stdout",
     "output_type": "stream",
     "text": [
      "3082.8492630456576\n",
      "True (6172, 3)\n"
     ]
    },
    {
     "name": "stderr",
     "output_type": "stream",
     "text": [
      "100%|██████████| 6172/6172 [00:01<00:00, 4276.17it/s]"
     ]
    },
    {
     "name": "stdout",
     "output_type": "stream",
     "text": [
      "3082.4141090350363\n",
      "True (6172, 3)\n"
     ]
    },
    {
     "name": "stderr",
     "output_type": "stream",
     "text": [
      "\n"
     ]
    }
   ],
   "source": [
    "maxIter = 50\n",
    "b = np.array([999])\n",
    "U = V.copy()\n",
    "bc = V[b, :]\n",
    "from scipy.sparse import csc_matrix\n",
    "Aeq = csc_matrix((0, 0))\n",
    "Beq = np.array([])\n",
    "for iter in range(maxIter):\n",
    "    RAll, objVal = fitRotation(U, rotData)\n",
    "    Rcol = RAll.reshape(NV * 3 * 3, 1, order='F')\n",
    "    Bcol = ARAPdata['K'] @ Rcol\n",
    "    B = Bcol.reshape(int(Bcol.shape[0] / 3), 3, order='F')\n",
    "    finish, U = igl.min_quad_with_fixed(ARAPdata['L'], B, b, bc, Aeq, Beq, False)\n",
    "    print(finish, U.shape)\n",
    "    igl.write_triangle_mesh(\"result.obj\", U, F)"
   ]
  }
 ],
 "metadata": {
  "kernelspec": {
   "display_name": "open3d",
   "language": "python",
   "name": "python3"
  },
  "language_info": {
   "codemirror_mode": {
    "name": "ipython",
    "version": 3
   },
   "file_extension": ".py",
   "mimetype": "text/x-python",
   "name": "python",
   "nbconvert_exporter": "python",
   "pygments_lexer": "ipython3",
   "version": "3.10.10"
  },
  "orig_nbformat": 4
 },
 "nbformat": 4,
 "nbformat_minor": 2
}
